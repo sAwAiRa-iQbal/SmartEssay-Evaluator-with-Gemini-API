{
  "nbformat": 4,
  "nbformat_minor": 0,
  "metadata": {
    "colab": {
      "provenance": []
    },
    "kernelspec": {
      "name": "python3",
      "display_name": "Python 3"
    },
    "language_info": {
      "name": "python"
    }
  },
  "cells": [
    {
      "cell_type": "markdown",
      "source": [
        "## **Import Libraries and Install Packages**"
      ],
      "metadata": {
        "id": "5n3irwPqTC5a"
      }
    },
    {
      "cell_type": "code",
      "source": [
        "import re\n",
        "import os\n",
        "import time\n",
        "from typing import TypedDict, Literal\n",
        "from IPython.display import Image, display\n",
        "\n",
        "!pip install langgraph\n",
        "!pip install langchain-google-genai # Install the 'langchain-google-genai' package.\n",
        "\n",
        "from langgraph.graph import StateGraph, START, END\n",
        "from langchain_core.prompts import ChatPromptTemplate\n",
        "from google.colab import userdata\n",
        "import google.generativeai as genai\n",
        "from langchain_google_genai import GoogleGenerativeAI"
      ],
      "metadata": {
        "colab": {
          "base_uri": "https://localhost:8080/",
          "height": 1000
        },
        "id": "oIC_UFdBRLwu",
        "outputId": "0c1a7f6f-7df0-4dcf-e1d8-906bf12e06c2"
      },
      "execution_count": null,
      "outputs": [
        {
          "output_type": "stream",
          "name": "stdout",
          "text": [
            "Collecting langgraph\n",
            "  Downloading langgraph-0.3.11-py3-none-any.whl.metadata (7.5 kB)\n",
            "Requirement already satisfied: langchain-core<0.4,>=0.1 in /usr/local/lib/python3.11/dist-packages (from langgraph) (0.3.44)\n",
            "Collecting langgraph-checkpoint<3.0.0,>=2.0.10 (from langgraph)\n",
            "  Downloading langgraph_checkpoint-2.0.20-py3-none-any.whl.metadata (4.6 kB)\n",
            "Collecting langgraph-prebuilt<0.2,>=0.1.1 (from langgraph)\n",
            "  Downloading langgraph_prebuilt-0.1.3-py3-none-any.whl.metadata (5.0 kB)\n",
            "Collecting langgraph-sdk<0.2.0,>=0.1.42 (from langgraph)\n",
            "  Downloading langgraph_sdk-0.1.57-py3-none-any.whl.metadata (1.8 kB)\n",
            "Requirement already satisfied: langsmith<0.4,>=0.1.125 in /usr/local/lib/python3.11/dist-packages (from langchain-core<0.4,>=0.1->langgraph) (0.3.13)\n",
            "Requirement already satisfied: tenacity!=8.4.0,<10.0.0,>=8.1.0 in /usr/local/lib/python3.11/dist-packages (from langchain-core<0.4,>=0.1->langgraph) (9.0.0)\n",
            "Requirement already satisfied: jsonpatch<2.0,>=1.33 in /usr/local/lib/python3.11/dist-packages (from langchain-core<0.4,>=0.1->langgraph) (1.33)\n",
            "Requirement already satisfied: PyYAML>=5.3 in /usr/local/lib/python3.11/dist-packages (from langchain-core<0.4,>=0.1->langgraph) (6.0.2)\n",
            "Requirement already satisfied: packaging<25,>=23.2 in /usr/local/lib/python3.11/dist-packages (from langchain-core<0.4,>=0.1->langgraph) (24.2)\n",
            "Requirement already satisfied: typing-extensions>=4.7 in /usr/local/lib/python3.11/dist-packages (from langchain-core<0.4,>=0.1->langgraph) (4.12.2)\n",
            "Requirement already satisfied: pydantic<3.0.0,>=2.5.2 in /usr/local/lib/python3.11/dist-packages (from langchain-core<0.4,>=0.1->langgraph) (2.10.6)\n",
            "Requirement already satisfied: msgpack<2.0.0,>=1.1.0 in /usr/local/lib/python3.11/dist-packages (from langgraph-checkpoint<3.0.0,>=2.0.10->langgraph) (1.1.0)\n",
            "Requirement already satisfied: httpx>=0.25.2 in /usr/local/lib/python3.11/dist-packages (from langgraph-sdk<0.2.0,>=0.1.42->langgraph) (0.28.1)\n",
            "Requirement already satisfied: orjson>=3.10.1 in /usr/local/lib/python3.11/dist-packages (from langgraph-sdk<0.2.0,>=0.1.42->langgraph) (3.10.15)\n",
            "Requirement already satisfied: anyio in /usr/local/lib/python3.11/dist-packages (from httpx>=0.25.2->langgraph-sdk<0.2.0,>=0.1.42->langgraph) (3.7.1)\n",
            "Requirement already satisfied: certifi in /usr/local/lib/python3.11/dist-packages (from httpx>=0.25.2->langgraph-sdk<0.2.0,>=0.1.42->langgraph) (2025.1.31)\n",
            "Requirement already satisfied: httpcore==1.* in /usr/local/lib/python3.11/dist-packages (from httpx>=0.25.2->langgraph-sdk<0.2.0,>=0.1.42->langgraph) (1.0.7)\n",
            "Requirement already satisfied: idna in /usr/local/lib/python3.11/dist-packages (from httpx>=0.25.2->langgraph-sdk<0.2.0,>=0.1.42->langgraph) (3.10)\n",
            "Requirement already satisfied: h11<0.15,>=0.13 in /usr/local/lib/python3.11/dist-packages (from httpcore==1.*->httpx>=0.25.2->langgraph-sdk<0.2.0,>=0.1.42->langgraph) (0.14.0)\n",
            "Requirement already satisfied: jsonpointer>=1.9 in /usr/local/lib/python3.11/dist-packages (from jsonpatch<2.0,>=1.33->langchain-core<0.4,>=0.1->langgraph) (3.0.0)\n",
            "Requirement already satisfied: requests<3,>=2 in /usr/local/lib/python3.11/dist-packages (from langsmith<0.4,>=0.1.125->langchain-core<0.4,>=0.1->langgraph) (2.32.3)\n",
            "Requirement already satisfied: requests-toolbelt<2.0.0,>=1.0.0 in /usr/local/lib/python3.11/dist-packages (from langsmith<0.4,>=0.1.125->langchain-core<0.4,>=0.1->langgraph) (1.0.0)\n",
            "Requirement already satisfied: zstandard<0.24.0,>=0.23.0 in /usr/local/lib/python3.11/dist-packages (from langsmith<0.4,>=0.1.125->langchain-core<0.4,>=0.1->langgraph) (0.23.0)\n",
            "Requirement already satisfied: annotated-types>=0.6.0 in /usr/local/lib/python3.11/dist-packages (from pydantic<3.0.0,>=2.5.2->langchain-core<0.4,>=0.1->langgraph) (0.7.0)\n",
            "Requirement already satisfied: pydantic-core==2.27.2 in /usr/local/lib/python3.11/dist-packages (from pydantic<3.0.0,>=2.5.2->langchain-core<0.4,>=0.1->langgraph) (2.27.2)\n",
            "Requirement already satisfied: charset-normalizer<4,>=2 in /usr/local/lib/python3.11/dist-packages (from requests<3,>=2->langsmith<0.4,>=0.1.125->langchain-core<0.4,>=0.1->langgraph) (3.4.1)\n",
            "Requirement already satisfied: urllib3<3,>=1.21.1 in /usr/local/lib/python3.11/dist-packages (from requests<3,>=2->langsmith<0.4,>=0.1.125->langchain-core<0.4,>=0.1->langgraph) (2.3.0)\n",
            "Requirement already satisfied: sniffio>=1.1 in /usr/local/lib/python3.11/dist-packages (from anyio->httpx>=0.25.2->langgraph-sdk<0.2.0,>=0.1.42->langgraph) (1.3.1)\n",
            "Downloading langgraph-0.3.11-py3-none-any.whl (132 kB)\n",
            "\u001b[2K   \u001b[90m━━━━━━━━━━━━━━━━━━━━━━━━━━━━━━━━━━━━━━━━\u001b[0m \u001b[32m132.5/132.5 kB\u001b[0m \u001b[31m3.4 MB/s\u001b[0m eta \u001b[36m0:00:00\u001b[0m\n",
            "\u001b[?25hDownloading langgraph_checkpoint-2.0.20-py3-none-any.whl (39 kB)\n",
            "Downloading langgraph_prebuilt-0.1.3-py3-none-any.whl (24 kB)\n",
            "Downloading langgraph_sdk-0.1.57-py3-none-any.whl (46 kB)\n",
            "\u001b[2K   \u001b[90m━━━━━━━━━━━━━━━━━━━━━━━━━━━━━━━━━━━━━━━━\u001b[0m \u001b[32m46.0/46.0 kB\u001b[0m \u001b[31m1.3 MB/s\u001b[0m eta \u001b[36m0:00:00\u001b[0m\n",
            "\u001b[?25hInstalling collected packages: langgraph-sdk, langgraph-checkpoint, langgraph-prebuilt, langgraph\n",
            "Successfully installed langgraph-0.3.11 langgraph-checkpoint-2.0.20 langgraph-prebuilt-0.1.3 langgraph-sdk-0.1.57\n",
            "Collecting langchain-google-genai\n",
            "  Downloading langchain_google_genai-2.1.0-py3-none-any.whl.metadata (3.6 kB)\n",
            "Collecting filetype<2.0.0,>=1.2.0 (from langchain-google-genai)\n",
            "  Downloading filetype-1.2.0-py2.py3-none-any.whl.metadata (6.5 kB)\n",
            "Collecting google-ai-generativelanguage<0.7.0,>=0.6.16 (from langchain-google-genai)\n",
            "  Downloading google_ai_generativelanguage-0.6.16-py3-none-any.whl.metadata (5.7 kB)\n",
            "Requirement already satisfied: langchain-core<0.4.0,>=0.3.43 in /usr/local/lib/python3.11/dist-packages (from langchain-google-genai) (0.3.44)\n",
            "Requirement already satisfied: pydantic<3,>=2 in /usr/local/lib/python3.11/dist-packages (from langchain-google-genai) (2.10.6)\n",
            "Requirement already satisfied: google-api-core!=2.0.*,!=2.1.*,!=2.10.*,!=2.2.*,!=2.3.*,!=2.4.*,!=2.5.*,!=2.6.*,!=2.7.*,!=2.8.*,!=2.9.*,<3.0.0dev,>=1.34.1 in /usr/local/lib/python3.11/dist-packages (from google-api-core[grpc]!=2.0.*,!=2.1.*,!=2.10.*,!=2.2.*,!=2.3.*,!=2.4.*,!=2.5.*,!=2.6.*,!=2.7.*,!=2.8.*,!=2.9.*,<3.0.0dev,>=1.34.1->google-ai-generativelanguage<0.7.0,>=0.6.16->langchain-google-genai) (2.24.2)\n",
            "Requirement already satisfied: google-auth!=2.24.0,!=2.25.0,<3.0.0dev,>=2.14.1 in /usr/local/lib/python3.11/dist-packages (from google-ai-generativelanguage<0.7.0,>=0.6.16->langchain-google-genai) (2.38.0)\n",
            "Requirement already satisfied: proto-plus<2.0.0dev,>=1.22.3 in /usr/local/lib/python3.11/dist-packages (from google-ai-generativelanguage<0.7.0,>=0.6.16->langchain-google-genai) (1.26.1)\n",
            "Requirement already satisfied: protobuf!=4.21.0,!=4.21.1,!=4.21.2,!=4.21.3,!=4.21.4,!=4.21.5,<6.0.0dev,>=3.20.2 in /usr/local/lib/python3.11/dist-packages (from google-ai-generativelanguage<0.7.0,>=0.6.16->langchain-google-genai) (4.25.6)\n",
            "Requirement already satisfied: langsmith<0.4,>=0.1.125 in /usr/local/lib/python3.11/dist-packages (from langchain-core<0.4.0,>=0.3.43->langchain-google-genai) (0.3.13)\n",
            "Requirement already satisfied: tenacity!=8.4.0,<10.0.0,>=8.1.0 in /usr/local/lib/python3.11/dist-packages (from langchain-core<0.4.0,>=0.3.43->langchain-google-genai) (9.0.0)\n",
            "Requirement already satisfied: jsonpatch<2.0,>=1.33 in /usr/local/lib/python3.11/dist-packages (from langchain-core<0.4.0,>=0.3.43->langchain-google-genai) (1.33)\n",
            "Requirement already satisfied: PyYAML>=5.3 in /usr/local/lib/python3.11/dist-packages (from langchain-core<0.4.0,>=0.3.43->langchain-google-genai) (6.0.2)\n",
            "Requirement already satisfied: packaging<25,>=23.2 in /usr/local/lib/python3.11/dist-packages (from langchain-core<0.4.0,>=0.3.43->langchain-google-genai) (24.2)\n",
            "Requirement already satisfied: typing-extensions>=4.7 in /usr/local/lib/python3.11/dist-packages (from langchain-core<0.4.0,>=0.3.43->langchain-google-genai) (4.12.2)\n",
            "Requirement already satisfied: annotated-types>=0.6.0 in /usr/local/lib/python3.11/dist-packages (from pydantic<3,>=2->langchain-google-genai) (0.7.0)\n",
            "Requirement already satisfied: pydantic-core==2.27.2 in /usr/local/lib/python3.11/dist-packages (from pydantic<3,>=2->langchain-google-genai) (2.27.2)\n",
            "Requirement already satisfied: googleapis-common-protos<2.0.0,>=1.56.2 in /usr/local/lib/python3.11/dist-packages (from google-api-core!=2.0.*,!=2.1.*,!=2.10.*,!=2.2.*,!=2.3.*,!=2.4.*,!=2.5.*,!=2.6.*,!=2.7.*,!=2.8.*,!=2.9.*,<3.0.0dev,>=1.34.1->google-api-core[grpc]!=2.0.*,!=2.1.*,!=2.10.*,!=2.2.*,!=2.3.*,!=2.4.*,!=2.5.*,!=2.6.*,!=2.7.*,!=2.8.*,!=2.9.*,<3.0.0dev,>=1.34.1->google-ai-generativelanguage<0.7.0,>=0.6.16->langchain-google-genai) (1.69.1)\n",
            "Requirement already satisfied: requests<3.0.0,>=2.18.0 in /usr/local/lib/python3.11/dist-packages (from google-api-core!=2.0.*,!=2.1.*,!=2.10.*,!=2.2.*,!=2.3.*,!=2.4.*,!=2.5.*,!=2.6.*,!=2.7.*,!=2.8.*,!=2.9.*,<3.0.0dev,>=1.34.1->google-api-core[grpc]!=2.0.*,!=2.1.*,!=2.10.*,!=2.2.*,!=2.3.*,!=2.4.*,!=2.5.*,!=2.6.*,!=2.7.*,!=2.8.*,!=2.9.*,<3.0.0dev,>=1.34.1->google-ai-generativelanguage<0.7.0,>=0.6.16->langchain-google-genai) (2.32.3)\n",
            "Requirement already satisfied: grpcio<2.0dev,>=1.33.2 in /usr/local/lib/python3.11/dist-packages (from google-api-core[grpc]!=2.0.*,!=2.1.*,!=2.10.*,!=2.2.*,!=2.3.*,!=2.4.*,!=2.5.*,!=2.6.*,!=2.7.*,!=2.8.*,!=2.9.*,<3.0.0dev,>=1.34.1->google-ai-generativelanguage<0.7.0,>=0.6.16->langchain-google-genai) (1.71.0)\n",
            "Requirement already satisfied: grpcio-status<2.0.dev0,>=1.33.2 in /usr/local/lib/python3.11/dist-packages (from google-api-core[grpc]!=2.0.*,!=2.1.*,!=2.10.*,!=2.2.*,!=2.3.*,!=2.4.*,!=2.5.*,!=2.6.*,!=2.7.*,!=2.8.*,!=2.9.*,<3.0.0dev,>=1.34.1->google-ai-generativelanguage<0.7.0,>=0.6.16->langchain-google-genai) (1.62.3)\n",
            "Requirement already satisfied: cachetools<6.0,>=2.0.0 in /usr/local/lib/python3.11/dist-packages (from google-auth!=2.24.0,!=2.25.0,<3.0.0dev,>=2.14.1->google-ai-generativelanguage<0.7.0,>=0.6.16->langchain-google-genai) (5.5.2)\n",
            "Requirement already satisfied: pyasn1-modules>=0.2.1 in /usr/local/lib/python3.11/dist-packages (from google-auth!=2.24.0,!=2.25.0,<3.0.0dev,>=2.14.1->google-ai-generativelanguage<0.7.0,>=0.6.16->langchain-google-genai) (0.4.1)\n",
            "Requirement already satisfied: rsa<5,>=3.1.4 in /usr/local/lib/python3.11/dist-packages (from google-auth!=2.24.0,!=2.25.0,<3.0.0dev,>=2.14.1->google-ai-generativelanguage<0.7.0,>=0.6.16->langchain-google-genai) (4.9)\n",
            "Requirement already satisfied: jsonpointer>=1.9 in /usr/local/lib/python3.11/dist-packages (from jsonpatch<2.0,>=1.33->langchain-core<0.4.0,>=0.3.43->langchain-google-genai) (3.0.0)\n",
            "Requirement already satisfied: httpx<1,>=0.23.0 in /usr/local/lib/python3.11/dist-packages (from langsmith<0.4,>=0.1.125->langchain-core<0.4.0,>=0.3.43->langchain-google-genai) (0.28.1)\n",
            "Requirement already satisfied: orjson<4.0.0,>=3.9.14 in /usr/local/lib/python3.11/dist-packages (from langsmith<0.4,>=0.1.125->langchain-core<0.4.0,>=0.3.43->langchain-google-genai) (3.10.15)\n",
            "Requirement already satisfied: requests-toolbelt<2.0.0,>=1.0.0 in /usr/local/lib/python3.11/dist-packages (from langsmith<0.4,>=0.1.125->langchain-core<0.4.0,>=0.3.43->langchain-google-genai) (1.0.0)\n",
            "Requirement already satisfied: zstandard<0.24.0,>=0.23.0 in /usr/local/lib/python3.11/dist-packages (from langsmith<0.4,>=0.1.125->langchain-core<0.4.0,>=0.3.43->langchain-google-genai) (0.23.0)\n",
            "Requirement already satisfied: anyio in /usr/local/lib/python3.11/dist-packages (from httpx<1,>=0.23.0->langsmith<0.4,>=0.1.125->langchain-core<0.4.0,>=0.3.43->langchain-google-genai) (3.7.1)\n",
            "Requirement already satisfied: certifi in /usr/local/lib/python3.11/dist-packages (from httpx<1,>=0.23.0->langsmith<0.4,>=0.1.125->langchain-core<0.4.0,>=0.3.43->langchain-google-genai) (2025.1.31)\n",
            "Requirement already satisfied: httpcore==1.* in /usr/local/lib/python3.11/dist-packages (from httpx<1,>=0.23.0->langsmith<0.4,>=0.1.125->langchain-core<0.4.0,>=0.3.43->langchain-google-genai) (1.0.7)\n",
            "Requirement already satisfied: idna in /usr/local/lib/python3.11/dist-packages (from httpx<1,>=0.23.0->langsmith<0.4,>=0.1.125->langchain-core<0.4.0,>=0.3.43->langchain-google-genai) (3.10)\n",
            "Requirement already satisfied: h11<0.15,>=0.13 in /usr/local/lib/python3.11/dist-packages (from httpcore==1.*->httpx<1,>=0.23.0->langsmith<0.4,>=0.1.125->langchain-core<0.4.0,>=0.3.43->langchain-google-genai) (0.14.0)\n",
            "Requirement already satisfied: pyasn1<0.7.0,>=0.4.6 in /usr/local/lib/python3.11/dist-packages (from pyasn1-modules>=0.2.1->google-auth!=2.24.0,!=2.25.0,<3.0.0dev,>=2.14.1->google-ai-generativelanguage<0.7.0,>=0.6.16->langchain-google-genai) (0.6.1)\n",
            "Requirement already satisfied: charset-normalizer<4,>=2 in /usr/local/lib/python3.11/dist-packages (from requests<3.0.0,>=2.18.0->google-api-core!=2.0.*,!=2.1.*,!=2.10.*,!=2.2.*,!=2.3.*,!=2.4.*,!=2.5.*,!=2.6.*,!=2.7.*,!=2.8.*,!=2.9.*,<3.0.0dev,>=1.34.1->google-api-core[grpc]!=2.0.*,!=2.1.*,!=2.10.*,!=2.2.*,!=2.3.*,!=2.4.*,!=2.5.*,!=2.6.*,!=2.7.*,!=2.8.*,!=2.9.*,<3.0.0dev,>=1.34.1->google-ai-generativelanguage<0.7.0,>=0.6.16->langchain-google-genai) (3.4.1)\n",
            "Requirement already satisfied: urllib3<3,>=1.21.1 in /usr/local/lib/python3.11/dist-packages (from requests<3.0.0,>=2.18.0->google-api-core!=2.0.*,!=2.1.*,!=2.10.*,!=2.2.*,!=2.3.*,!=2.4.*,!=2.5.*,!=2.6.*,!=2.7.*,!=2.8.*,!=2.9.*,<3.0.0dev,>=1.34.1->google-api-core[grpc]!=2.0.*,!=2.1.*,!=2.10.*,!=2.2.*,!=2.3.*,!=2.4.*,!=2.5.*,!=2.6.*,!=2.7.*,!=2.8.*,!=2.9.*,<3.0.0dev,>=1.34.1->google-ai-generativelanguage<0.7.0,>=0.6.16->langchain-google-genai) (2.3.0)\n",
            "Requirement already satisfied: sniffio>=1.1 in /usr/local/lib/python3.11/dist-packages (from anyio->httpx<1,>=0.23.0->langsmith<0.4,>=0.1.125->langchain-core<0.4.0,>=0.3.43->langchain-google-genai) (1.3.1)\n",
            "Downloading langchain_google_genai-2.1.0-py3-none-any.whl (40 kB)\n",
            "\u001b[2K   \u001b[90m━━━━━━━━━━━━━━━━━━━━━━━━━━━━━━━━━━━━━━━━\u001b[0m \u001b[32m40.2/40.2 kB\u001b[0m \u001b[31m1.9 MB/s\u001b[0m eta \u001b[36m0:00:00\u001b[0m\n",
            "\u001b[?25hDownloading filetype-1.2.0-py2.py3-none-any.whl (19 kB)\n",
            "Downloading google_ai_generativelanguage-0.6.16-py3-none-any.whl (1.4 MB)\n",
            "\u001b[2K   \u001b[90m━━━━━━━━━━━━━━━━━━━━━━━━━━━━━━━━━━━━━━━━\u001b[0m \u001b[32m1.4/1.4 MB\u001b[0m \u001b[31m36.0 MB/s\u001b[0m eta \u001b[36m0:00:00\u001b[0m\n",
            "\u001b[?25hInstalling collected packages: filetype, google-ai-generativelanguage, langchain-google-genai\n",
            "  Attempting uninstall: google-ai-generativelanguage\n",
            "    Found existing installation: google-ai-generativelanguage 0.6.15\n",
            "    Uninstalling google-ai-generativelanguage-0.6.15:\n",
            "      Successfully uninstalled google-ai-generativelanguage-0.6.15\n",
            "\u001b[31mERROR: pip's dependency resolver does not currently take into account all the packages that are installed. This behaviour is the source of the following dependency conflicts.\n",
            "google-generativeai 0.8.4 requires google-ai-generativelanguage==0.6.15, but you have google-ai-generativelanguage 0.6.16 which is incompatible.\u001b[0m\u001b[31m\n",
            "\u001b[0mSuccessfully installed filetype-1.2.0 google-ai-generativelanguage-0.6.16 langchain-google-genai-2.1.0\n"
          ]
        },
        {
          "output_type": "display_data",
          "data": {
            "application/vnd.colab-display-data+json": {
              "pip_warning": {
                "packages": [
                  "google"
                ]
              },
              "id": "35969c8220a64629a118815278b6529b"
            }
          },
          "metadata": {}
        }
      ]
    },
    {
      "cell_type": "markdown",
      "source": [
        "## **Configure API and Initialize Models**"
      ],
      "metadata": {
        "id": "hTRILuK-TMLy"
      }
    },
    {
      "cell_type": "code",
      "source": [
        "# Retrieve and configure the API key\n",
        "GEMINI_API_KEY = userdata.get(\"GEMINI_API_KEY\")\n",
        "genai.configure(api_key=GEMINI_API_KEY)\n",
        "llm = GoogleGenerativeAI(google_api_key=GEMINI_API_KEY, model=\"gemini-1.5-flash\")\n",
        "print(llm)"
      ],
      "metadata": {
        "colab": {
          "base_uri": "https://localhost:8080/"
        },
        "id": "PoIud1_QTJUl",
        "outputId": "0f80d845-543a-4f05-d828-bcc6e20ca6aa"
      },
      "execution_count": null,
      "outputs": [
        {
          "output_type": "stream",
          "name": "stdout",
          "text": [
            "\u001b[1mGoogleGenerativeAI\u001b[0m\n",
            "Params: {'model': 'gemini-1.5-flash', 'temperature': 0.7, 'top_p': None, 'top_k': None, 'max_output_tokens': None, 'candidate_count': 1}\n"
          ]
        }
      ]
    },
    {
      "cell_type": "markdown",
      "source": [
        "## **Define the STATE Data Structure**"
      ],
      "metadata": {
        "id": "x79rM8F3TWoV"
      }
    },
    {
      "cell_type": "code",
      "source": [
        "class STATE(TypedDict):\n",
        "    \"\"\"Represents the state of the essay grading process.\"\"\"\n",
        "    essay: str\n",
        "    relevence_score: float\n",
        "    grammar_score: float\n",
        "    fluency_score: float\n",
        "    vocabulary_score: float\n",
        "    overall_score: float\n",
        "    suggested_edits: str\n",
        "    topic: str\n"
      ],
      "metadata": {
        "id": "4MEL8Nv2TU98"
      },
      "execution_count": null,
      "outputs": []
    },
    {
      "cell_type": "markdown",
      "source": [
        "## **Define Helper Functions**"
      ],
      "metadata": {
        "id": "8yDXYRXUTdtu"
      }
    },
    {
      "cell_type": "code",
      "source": [
        "def get_score(content: str) -> float:\n",
        "    \"\"\"Extract the numeric score from the LLM's response.\"\"\"\n",
        "    match = re.search(r'Score:\\s*(\\d+(\\.\\d+)?)', content)\n",
        "    if match:\n",
        "        return float(match.group(1))\n",
        "    else:\n",
        "        print(f\"Warning: Could not extract score from response: {content}\")\n",
        "        return 0\n"
      ],
      "metadata": {
        "id": "T83KzipGThm-"
      },
      "execution_count": null,
      "outputs": []
    },
    {
      "cell_type": "markdown",
      "source": [
        "## **Define Scoring Functions**"
      ],
      "metadata": {
        "id": "aGQ6ALpITk9u"
      }
    },
    {
      "cell_type": "code",
      "source": [
        "def check_relevance(state: STATE) -> STATE:\n",
        "    \"\"\"Check the relevance of the essay.\"\"\"\n",
        "    prompt = ChatPromptTemplate.from_template(\n",
        "        \"Analyze the relevance of the following essay to the given topic. \"\n",
        "        \"Provide a relevance score between 0 and 1. If the essay is completely off topic, do not exceed the score by 1. \"\n",
        "        \"Your response should start with 'Score: ' followed by the numeric score, \"\n",
        "        \"then provide your explanation.\\n\\nTopic: {topic}\\nEssay: {essay}\"\n",
        "    )\n",
        "    prompt_string = prompt.format_prompt(essay=state[\"essay\"], topic=state[\"topic\"]).to_string()\n",
        "    response = llm(prompt_string)\n",
        "    state[\"relevence_score\"] = get_score(response)\n",
        "    return state\n",
        "\n",
        "def check_grammar(state: STATE) -> STATE:\n",
        "    \"\"\"Check the grammar of the essay.\"\"\"\n",
        "    prompt = ChatPromptTemplate.from_template(\n",
        "        \"Analyze the grammar of the following essay. \"\n",
        "        \"Provide a grammar score between 0 and 2. \"\n",
        "        \"Your response should start with 'Score: ' followed by the numeric score, \"\n",
        "        \"then provide your explanation.\\n\\nEssay: {essay}\"\n",
        "    )\n",
        "    prompt_string = prompt.format_prompt(essay=state[\"essay\"]).to_string()\n",
        "    response = llm(prompt_string)\n",
        "    state[\"grammar_score\"] = get_score(response)\n",
        "    return state\n",
        "\n",
        "def check_fluency(state: STATE) -> STATE:\n",
        "    \"\"\"Check the fluency of the essay.\"\"\"\n",
        "    prompt = ChatPromptTemplate.from_template(\n",
        "        \"Analyze the fluency of the following essay. \"\n",
        "        \"Provide a fluency score between 0 and 3. \"\n",
        "        \"Your response should start with 'Score: ' followed by the numeric score, \"\n",
        "        \"then provide your explanation.\\n\\nEssay: {essay}\"\n",
        "    )\n",
        "    prompt_string = prompt.format_prompt(essay=state[\"essay\"]).to_string()\n",
        "    response = llm(prompt_string)\n",
        "    state[\"fluency_score\"] = get_score(response)\n",
        "    return state\n",
        "\n",
        "def check_vocabulary(state: STATE) -> STATE:\n",
        "    \"\"\"Check the vocabulary of the essay.\"\"\"\n",
        "    prompt = ChatPromptTemplate.from_template(\n",
        "        \"Analyze the vocabulary of the following essay. \"\n",
        "        \"Provide a vocabulary score between 0 and 4. \"\n",
        "        \"Your response should start with 'Score: ' followed by the numeric score, \"\n",
        "        \"then provide your explanation.\\n\\nEssay: {essay}\"\n",
        "    )\n",
        "    prompt_string = prompt.format_prompt(essay=state[\"essay\"]).to_string()\n",
        "    response = llm(prompt_string)\n",
        "    state[\"vocabulary_score\"] = get_score(response)\n",
        "    return state"
      ],
      "metadata": {
        "id": "PojuysmXTkDK"
      },
      "execution_count": null,
      "outputs": []
    },
    {
      "cell_type": "markdown",
      "source": [
        "## **Define the Essay Grading and Suggestion Function**"
      ],
      "metadata": {
        "id": "LQpiLfSETr9T"
      }
    },
    {
      "cell_type": "code",
      "source": [
        "def suggest_edits(state: STATE) -> STATE:\n",
        "    \"\"\"Suggest edits to the essay.\"\"\"\n",
        "    prompt = ChatPromptTemplate.from_template(\n",
        "        \"You are an expert essay grader. Check the scores and suggest changes in the following essay to improve the score. \"\n",
        "        \"Your response should start with reviewing the Score, provide your explanation why the essay was scored the way it is scored, \"\n",
        "        \"and provide specific suggestions to improve the overall quality of the essay, focusing on clarity, relevance, grammar, and structure.\\n\\n\"\n",
        "        \"Relevance Score: {relevence_score}\\nGrammar Score: {grammar_score}\\nFluency Score: {fluency_score}\\nVocabulary Score: {vocabulary_score}\\n\\n\"\n",
        "        \"Essay: {essay}\\nTopic: {topic}\"\n",
        "    )\n",
        "    prompt_string = prompt.format_prompt(\n",
        "        relevence_score=state[\"relevence_score\"], grammar_score=state[\"grammar_score\"],\n",
        "        fluency_score=state[\"fluency_score\"], vocabulary_score=state[\"vocabulary_score\"],\n",
        "        essay=state[\"essay\"], topic=state[\"topic\"]\n",
        "    ).to_string()\n",
        "    response = llm(prompt_string)\n",
        "    state[\"suggested_edits\"] = response\n",
        "    return state\n",
        "\n",
        "def grade_essay(state: STATE) -> STATE:\n",
        "    \"\"\"Calculate the final grade of the essay based on all scores.\"\"\"\n",
        "    state = suggest_edits(state)\n",
        "    state['overall_score'] = (state['relevence_score'] + state['grammar_score'] + state['fluency_score'] + state['vocabulary_score'])\n",
        "    return state\n"
      ],
      "metadata": {
        "id": "guteJRL5Tq-r"
      },
      "execution_count": null,
      "outputs": []
    },
    {
      "cell_type": "markdown",
      "source": [
        "## **Configure and Compile the StateGraph**"
      ],
      "metadata": {
        "id": "xjwcV_p7T1xf"
      }
    },
    {
      "cell_type": "code",
      "source": [
        "# Initialize and configure the StateGraph\n",
        "workflow = StateGraph(STATE)\n",
        "workflow.set_entry_point(\"check_relevance\")\n",
        "workflow.add_node(\"check_relevance\", check_relevance)\n",
        "workflow.add_node(\"check_grammar\", check_grammar)\n",
        "workflow.add_node(\"check_fluency\", check_fluency)\n",
        "workflow.add_node(\"check_vocabulary\", check_vocabulary)\n",
        "workflow.add_node(\"grade_essay\", grade_essay)\n",
        "workflow.add_edge(\"check_relevance\", \"check_grammar\")\n",
        "workflow.add_edge(\"check_grammar\", \"check_fluency\")\n",
        "workflow.add_edge(\"check_fluency\", \"check_vocabulary\")\n",
        "workflow.add_edge(\"check_vocabulary\", \"grade_essay\")\n",
        "workflow.add_edge(\"grade_essay\", END)\n",
        "\n",
        "# Compile the graph\n",
        "graph = workflow.compile()\n",
        "display(Image(graph.get_graph().draw_mermaid_png()))  # Optionally display the workflow graph\n"
      ],
      "metadata": {
        "colab": {
          "base_uri": "https://localhost:8080/",
          "height": 647
        },
        "id": "HYPTf7aMTyow",
        "outputId": "6baf7b47-cfba-4fdc-c525-d138c3ded58c"
      },
      "execution_count": null,
      "outputs": [
        {
          "output_type": "display_data",
          "data": {
            "image/png": "[encoded data removed]",
            "text/plain": [
              "<IPython.core.display.Image object>"
            ]
          },
          "metadata": {}
        }
      ]
    },
    {
      "cell_type": "markdown",
      "source": [
        "## **Define the Function to Get Grades and Display Results**"
      ],
      "metadata": {
        "id": "1ine0lKuVHos"
      }
    },
    {
      "cell_type": "code",
      "source": [
        "def grade_essay(state: STATE) -> STATE:\n",
        "    \"\"\"Calculate the final grade of the essay based on the sum of all scores.\"\"\"\n",
        "    # Sum the scores directly\n",
        "    state['overall_score'] = (state['relevence_score'] + state['grammar_score'] +\n",
        "                              state['fluency_score'] + state['vocabulary_score'])\n",
        "\n",
        "    # Apply any suggested edits based on the scoring\n",
        "    state = suggest_edits(state)\n",
        "    return state\n",
        "\n",
        "\n",
        "    time.sleep(1)  # Simulate processing delay\n",
        "    initial_state = dict(\n",
        "        essay=content,\n",
        "        relevence_score=0.0,\n",
        "        grammar_score=0.0,\n",
        "        fluency_score=0.0,\n",
        "        vocabulary_score=0.0,\n",
        "        overall_score=0.0,\n",
        "        suggested_edits=\"\",\n",
        "        topic=topic,\n",
        "    )\n",
        "    result = graph.invoke(initial_state)\n",
        "    return result\n"
      ],
      "metadata": {
        "id": "AS1sz1xKUjz6"
      },
      "execution_count": null,
      "outputs": []
    },
    {
      "cell_type": "markdown",
      "source": [
        "## **IELTS essay sample from Chatgpt**\n",
        "\n",
        "- Enter The Topic: Some people think that the best way to increase road safety is to increase the minimum legal age for driving cars or riding motorbikes. To what extent do you agree or disagree?\n",
        "- Enter Your Essay: The proposition to enhance road safety by raising the minimum legal age for drivers and motorcyclists is a topic that garners substantial public and scholarly interest. While this approach may seem prudent at first glance, its effectiveness in reducing road accidents is debatable. I partially agree with this assertion, as I believe that while age can influence driving behavior, it is not the sole factor that affects road safety.  Proponents of increasing the minimum legal age argue that younger drivers typically lack the maturity required to navigate the complexities of driving. Statistics often support this view, suggesting that road accidents are disproportionately higher among younger drivers, primarily due to their propensity for risk-taking and less developed decision-making skills. By increasing the legal driving age, it is presumed that drivers would have more maturity and potentially better judgment, thus reducing the likelihood of accidents.  However, this perspective does not consider the comprehensive nature of driving skills, which are not solely matured with age but with experience and education. Raising the legal age does not guarantee that all new drivers are inherently safer. Young adults may still lack experience, which is crucial for safe driving. There is a strong case to be made for enhancing driver education programs instead of changing the legal age. By implementing more rigorous and comprehensive driving curricula that include simulated road experiences, hazard perception, and defensive driving tactics, new drivers can be better prepared for the challenges of the road, regardless of their age.  Furthermore, the effectiveness of such a policy can vary significantly between urban and rural areas. In rural regions where public transportation may be less accessible, driving is often not just a convenience but a necessity. Increasing the legal driving age could disproportionately affect these communities, limiting the mobility of young individuals who rely on driving to commute to educational institutions or workplaces.  Moreover, focusing on age overlooks other crucial aspects of road safety, such as the condition of vehicles and road infrastructure, enforcement of traffic laws, and the role of pedestrian behavior. A holistic approach to road safety would include strict enforcement of traffic regulations, regular maintenance of infrastructure, and public education campaigns that promote safe driving practices.  In conclusion, while increasing the minimum legal age for driving might contribute marginally to enhancing road safety, it is not a panacea. A multi-faceted approach that includes improved driver education, better law enforcement, and infrastructure development is likely to be more effective. Therefore, the focus should not be solely on who is allowed to drive but on how we can make all drivers safer on the roads.\n",
        "\n",
        "**GPT4 SCore this essay as:**\n",
        "\n",
        "- Relevance Score: 1/1\n",
        "- Grammar Score: 2/2\n",
        "- Fluency Score: 3/3\n",
        "- Vocabulary Score: 3.5/4\n",
        "- Final Essay Score: 9.5/10"
      ],
      "metadata": {
        "id": "98_7vbUxeMUI"
      }
    },
    {
      "cell_type": "markdown",
      "source": [
        "**Llama score this essay as:**\n",
        "\n",
        "- Relevance Score: 0.8/1\n",
        "- Grammar Score: 1.8/2\n",
        "- Fluency Score: 2.5/3\n",
        "- Vocabulary Score: 3.2/4\n",
        "- Final Essay Score: 8.3/10"
      ],
      "metadata": {
        "id": "WWYeaJ_4jNv6"
      }
    },
    {
      "cell_type": "code",
      "source": [
        "# Sample run\n",
        "result = get_Grade(input(\"Enter The Topic: \"), input(\"Enter Your Essay: \"))\n",
        "print(f\"Relevance Score: {result['relevence_score']:.1f}/1\")  # Assuming max is 1 for relevance\n",
        "print(f\"Grammar Score: {result['grammar_score']:.1f}/2\")      # Assuming max is 2 for grammar\n",
        "print(f\"Fluency Score: {result['fluency_score']:.1f}/3\")      # Assuming max is 3 for fluency\n",
        "print(f\"Vocabulary Score: {result['vocabulary_score']:.1f}/4\")  # Assuming max is 4 for vocabulary\n",
        "print(f\"Final Essay Score: {result['overall_score']:.1f}/10\\n\\n\")  # Display the final score by adding all scores\n",
        "print(f\"--Suggested Improvements:\\n{result['suggested_edits']}\")\n"
      ],
      "metadata": {
        "colab": {
          "base_uri": "https://localhost:8080/"
        },
        "id": "kpes_G2lVPoR",
        "outputId": "2e16e588-816e-4451-e551-ecf236882248"
      },
      "execution_count": null,
      "outputs": [
        {
          "output_type": "stream",
          "name": "stdout",
          "text": [
            "Enter The Topic: Some people think that the best way to increase road safety is to increase the minimum legal age for driving cars or riding motorbikes. To what extent do you agree or disagree?\n",
            "Enter Your Essay: The proposition to enhance road safety by raising the minimum legal age for drivers and motorcyclists is a topic that garners substantial public and scholarly interest. While this approach may seem prudent at first glance, its effectiveness in reducing road accidents is debatable. I partially agree with this assertion, as I believe that while age can influence driving behavior, it is not the sole factor that affects road safety.  Proponents of increasing the minimum legal age argue that younger drivers typically lack the maturity required to navigate the complexities of driving. Statistics often support this view, suggesting that road accidents are disproportionately higher among younger drivers, primarily due to their propensity for risk-taking and less developed decision-making skills. By increasing the legal driving age, it is presumed that drivers would have more maturity and potentially better judgment, thus reducing the likelihood of accidents.  However, this perspective does not consider the comprehensive nature of driving skills, which are not solely matured with age but with experience and education. Raising the legal age does not guarantee that all new drivers are inherently safer. Young adults may still lack experience, which is crucial for safe driving. There is a strong case to be made for enhancing driver education programs instead of changing the legal age. By implementing more rigorous and comprehensive driving curricula that include simulated road experiences, hazard perception, and defensive driving tactics, new drivers can be better prepared for the challenges of the road, regardless of their age.  Furthermore, the effectiveness of such a policy can vary significantly between urban and rural areas. In rural regions where public transportation may be less accessible, driving is often not just a convenience but a necessity. Increasing the legal driving age could disproportionately affect these communities, limiting the mobility of young individuals who rely on driving to commute to educational institutions or workplaces.  Moreover, focusing on age overlooks other crucial aspects of road safety, such as the condition of vehicles and road infrastructure, enforcement of traffic laws, and the role of pedestrian behavior. A holistic approach to road safety would include strict enforcement of traffic regulations, regular maintenance of infrastructure, and public education campaigns that promote safe driving practices.  In conclusion, while increasing the minimum legal age for driving might contribute marginally to enhancing road safety, it is not a panacea. A multi-faceted approach that includes improved driver education, better law enforcement, and infrastructure development is likely to be more effective. Therefore, the focus should not be solely on who is allowed to drive but on how we can make all drivers safer on the roads.\n",
            "Relevance Score: 0.9/1\n",
            "Grammar Score: 1.8/2\n",
            "Fluency Score: 3.0/3\n",
            "Vocabulary Score: 3.0/4\n",
            "Final Essay Score: 8.8/10\n",
            "\n",
            "\n",
            "--Suggested Improvements:\n",
            "**Score Review and Explanation:**\n",
            "\n",
            "* **Relevance Score (0.95):**  This score indicates the essay largely addresses the essay prompt.  The slight deduction might be due to a perceived lack of a strong, clearly stated position in the introduction, or perhaps a slightly tangential exploration of rural vs. urban driving implications in the body.\n",
            "\n",
            "* **Grammar Score (1.8):** This low score suggests grammatical errors, potentially including sentence structure issues, tense inconsistencies, subject-verb agreement problems, or punctuation errors.  These errors likely disrupt the flow and clarity of the essay.\n",
            "\n",
            "* **Fluency Score (3.0):** A score of 3.0 suggests a generally fluent essay, but with areas where the flow could be improved.  This likely means there are some awkward sentence constructions or transitions that hinder the smooth progression of ideas.\n",
            "\n",
            "* **Vocabulary Score (3.0):**  This score implies a reasonably good vocabulary, but there's room for improvement.  While the language is adequate, more sophisticated and precise word choices could elevate the essay.\n",
            "\n",
            "\n",
            "**Specific Suggestions for Improvement:**\n",
            "\n",
            "1. **Strengthen the Introduction:** The introduction is somewhat passive.  Instead of \"I partially agree,\" state your position more directly and confidently.  For example: \"While raising the minimum driving age may appear a simple solution to enhance road safety, a more comprehensive approach encompassing driver education, infrastructure improvements, and stricter enforcement is ultimately more effective.\"  This immediately establishes your stance and provides a clear roadmap for the essay.\n",
            "\n",
            "2. **Address Grammar and Punctuation:** Carefully review the essay for grammatical errors.  Use a grammar checker (Grammarly, ProWritingAid) to identify and correct sentence fragments, run-on sentences, subject-verb disagreements, and punctuation mistakes.  Pay close attention to consistent tense usage.\n",
            "\n",
            "3. **Improve Sentence Structure and Flow:** Many sentences are long and complex. Break these down into shorter, more concise sentences for better clarity and readability.  Use transition words and phrases (however, furthermore, moreover, in addition, consequently) more effectively to create a smoother flow between paragraphs and ideas.\n",
            "\n",
            "4. **Enhance Vocabulary and Precision:** Replace weak verbs and adjectives with stronger, more precise alternatives. For example, instead of \"better judgment,\" consider \"improved decision-making abilities.\"  Instead of \"safer,\" use terms like \"more responsible\" or \"less accident-prone.\" Avoid repetition of words like \"driving\" and \"road safety.\"\n",
            "\n",
            "5. **Develop Arguments More Fully:**  The essay touches upon several important points (driver education, infrastructure, enforcement) but doesn't fully explore their potential impact.  Expand on each argument with specific examples, data, or research to strengthen your claims.  For instance, instead of simply stating that better driver education is needed, provide examples of specific skills that should be included and how these would improve road safety.\n",
            "\n",
            "6. **Refine the Conclusion:** The conclusion restates the essay's main points but lacks a powerful concluding statement.  End with a strong, memorable sentence that summarizes your overall argument and leaves a lasting impression on the reader.  For example: \"Ultimately, road safety is a complex issue requiring a multifaceted solution that goes beyond simply changing the minimum driving age.  By investing in comprehensive driver training, improving infrastructure, and strengthening law enforcement, we can create a safer environment for all road users.\"\n",
            "\n",
            "7. **Structure:** While the essay has a logical structure (introduction, body paragraphs, conclusion), ensure each paragraph focuses on a single, clear idea.  Consider using topic sentences at the beginning of each paragraph to clearly state the main point.\n",
            "\n",
            "By addressing these points, the essay's score can be significantly improved. The focus should be on refining the existing arguments, strengthening the clarity and flow, and polishing the grammar and vocabulary to achieve a more polished and persuasive piece of writing.\n"
          ]
        }
      ]
    },
    {
      "cell_type": "markdown",
      "source": [
        "**poor quality essay**\n",
        "\n",
        "- Enter The Topic: The Influence of Social Media on Teenagers\n",
        "- Enter Your Essay: Social media is bad for teenagers because it distracts them from their homework. Many teenagers spend a lot of time on Facebook and Instagram where they talk to friends and look at videos. This means they have less time for homework. Social media can also make teenagers feel bad because everyone is trying to show their best life, even if it's not real. Parents should make rules about how much time their kids can spend on social media.\n",
        "\n",
        "\n",
        "- Relevance Score: 0.5/1\n",
        "- Grammar Score: 1/2\n",
        "- Fluency Score: 1/3\n",
        "- Vocabulary Score: 1/4\n",
        "- Final Essay Score: 3.5/10"
      ],
      "metadata": {
        "id": "6lp-_k15fOCE"
      }
    },
    {
      "cell_type": "code",
      "source": [
        "# Sample run\n",
        "result = get_Grade(input(\"Enter The Topic: \"), input(\"Enter Your Essay: \"))\n",
        "print(f\"Relevance Score: {result['relevence_score']:.1f}/1\")  # Assuming max is 1 for relevance\n",
        "print(f\"Grammar Score: {result['grammar_score']:.1f}/2\")      # Assuming max is 2 for grammar\n",
        "print(f\"Fluency Score: {result['fluency_score']:.1f}/3\")      # Assuming max is 3 for fluency\n",
        "print(f\"Vocabulary Score: {result['vocabulary_score']:.1f}/4\")  # Assuming max is 4 for vocabulary\n",
        "print(f\"Final Essay Score: {result['overall_score']:.1f}/10\\n\\n\")  # Display the final score by adding all scores\n",
        "print(f\"--Suggested Improvements:\\n{result['suggested_edits']}\")"
      ],
      "metadata": {
        "colab": {
          "base_uri": "https://localhost:8080/"
        },
        "id": "nydIdymVY7cu",
        "outputId": "61c76d53-e5ec-40e1-824d-f8dd1e0d8a80"
      },
      "execution_count": null,
      "outputs": [
        {
          "output_type": "stream",
          "name": "stdout",
          "text": [
            "Enter The Topic: The Influence of Social Media on Teenagers\n",
            "Enter Your Essay: Social media is bad for teenagers because it distracts them from their homework. Many teenagers spend a lot of time on Facebook and Instagram where they talk to friends and look at videos. This means they have less time for homework. Social media can also make teenagers feel bad because everyone is trying to show their best life, even if it's not real. Parents should make rules about how much time their kids can spend on social media.\n",
            "Relevance Score: 0.7/1\n",
            "Grammar Score: 1.5/2\n",
            "Fluency Score: 2.0/3\n",
            "Vocabulary Score: 1.0/4\n",
            "Final Essay Score: 5.2/10\n",
            "\n",
            "\n",
            "--Suggested Improvements:\n",
            "## Essay Review and Improvement Suggestions\n",
            "\n",
            "The essay received a low overall score due to weaknesses across several key areas. Let's break down the scores and suggest improvements:\n",
            "\n",
            "**Relevance Score: 0.7**  This low score indicates the essay only partially addresses the broad topic \"The Influence of Social Media on Teenagers.\" While it mentions distraction from homework and negative self-image, it fails to explore the wider range of impacts social media has on teenagers.  The essay is too narrow in its focus.\n",
            "\n",
            "**Grammar Score: 1.5** This score suggests grammatical errors and sentence structure issues. The sentences are simple and lack complexity.  There's a lack of sophisticated sentence structures which limits the overall impact.\n",
            "\n",
            "**Fluency Score: 2.0**  A score of 2.0 indicates some fluency issues. The ideas are presented in a somewhat disjointed manner, lacking a clear and logical flow.  The transitions between sentences and paragraphs are weak.\n",
            "\n",
            "**Vocabulary Score: 1.0** This low score reflects a limited vocabulary and a lack of precise word choice.  The language is simplistic and repetitive.\n",
            "\n",
            "\n",
            "**Specific Suggestions for Improvement:**\n",
            "\n",
            "To significantly improve the essay, the following changes are crucial:\n",
            "\n",
            "1. **Expand the Scope:** The essay needs to explore a broader range of social media's influence.  Consider these additional points:\n",
            "\n",
            "    * **Cyberbullying:** Discuss the prevalence and impact of cyberbullying on teenagers' mental health and well-being.\n",
            "    * **Mental Health:** Explore the link between excessive social media use and anxiety, depression, and body image issues.  Provide specific examples and statistics to support your claims.\n",
            "    * **Addiction:**  Discuss the addictive nature of social media and its effect on teenagers' sleep, academic performance, and social skills.\n",
            "    * **Exposure to Inappropriate Content:**  Analyze the risks associated with exposure to violent, sexually explicit, or otherwise harmful content.\n",
            "    * **Social Comparison and Pressure:** Elaborate on the pressure to present a perfect online persona and its consequences.\n",
            "\n",
            "2. **Develop Argumentation and Evidence:**  Instead of making broad statements, support your claims with evidence.  Use statistics, research findings, or relevant examples from reputable sources.  For example, instead of saying \"Social media can make teenagers feel bad,\" cite a study showing the correlation between social media use and increased rates of depression among teenagers.\n",
            "\n",
            "3. **Improve Sentence Structure and Grammar:**  Vary your sentence structure.  Use complex sentences to add depth and sophistication.  Proofread carefully to eliminate grammatical errors and improve clarity.  Consider using transition words and phrases to create a smoother flow between ideas (e.g., however, furthermore, in addition, consequently).\n",
            "\n",
            "4. **Enhance Vocabulary:**  Replace overused words (e.g., \"bad,\" \"a lot,\" \"good\") with more precise and sophisticated vocabulary.  Use a thesaurus to find synonyms and improve word choice.\n",
            "\n",
            "5. **Structure the Essay:**  Organize the essay logically.  A possible structure:\n",
            "\n",
            "    * **Introduction:** Briefly introduce the topic and state your thesis statement (e.g., \"Social media has a profound and multifaceted influence on teenagers, impacting their mental health, academic performance, and social development.\")\n",
            "    * **Body Paragraphs:** Each body paragraph should focus on a specific aspect of social media's influence (e.g., one paragraph on cyberbullying, another on mental health, etc.).  Each paragraph should have a topic sentence, supporting evidence, and a concluding sentence.\n",
            "    * **Conclusion:** Summarize your main points and reiterate your thesis statement in a new and insightful way.  Consider offering potential solutions or recommendations.\n",
            "\n",
            "\n",
            "**Example of Improved Paragraph:**\n",
            "\n",
            "Instead of: \"Social media can make teenagers feel bad because everyone is trying to show their best life, even if it's not real.\"\n",
            "\n",
            "Try: \"The curated perfection often presented on social media platforms fosters unhealthy social comparison and contributes to negative body image and low self-esteem among teenagers.  Research by [cite a source] indicates a strong correlation between heavy social media use and increased rates of anxiety and depression, largely due to the constant exposure to idealized representations of reality.\"\n",
            "\n",
            "\n",
            "By implementing these changes, the essay can achieve a significantly higher score, reflecting a deeper understanding of the topic and improved writing skills.\n"
          ]
        }
      ]
    },
    {
      "cell_type": "markdown",
      "source": [
        "**Essay from 6500 Ellipse corpus**\n",
        "\n",
        "- Grammer score = 3.5\n",
        "- vocabulary = 3.5"
      ],
      "metadata": {
        "id": "NA9t_2TPhha5"
      }
    },
    {
      "cell_type": "code",
      "source": [
        "# Sample run\n",
        "result = get_Grade(input(\"Enter The Topic: \"), input(\"Enter Your Essay: \"))\n",
        "print(f\"Relevance Score: {result['relevence_score']:.1f}/1\")  # Assuming max is 1 for relevance\n",
        "print(f\"Grammar Score: {result['grammar_score']:.1f}/2\")      # Assuming max is 2 for grammar\n",
        "print(f\"Fluency Score: {result['fluency_score']:.1f}/3\")      # Assuming max is 3 for fluency\n",
        "print(f\"Vocabulary Score: {result['vocabulary_score']:.1f}/4\")  # Assuming max is 4 for vocabulary\n",
        "print(f\"Final Essay Score: {result['overall_score']:.1f}/10\\n\\n\")  # Display the final score by adding all scores\n",
        "print(f\"--Suggested Improvements:\\n{result['suggested_edits']}\")"
      ],
      "metadata": {
        "colab": {
          "base_uri": "https://localhost:8080/"
        },
        "id": "TWp1yFzugfxS",
        "outputId": "51188cce-0b41-42d3-ced2-28ca9fc2bb05"
      },
      "execution_count": null,
      "outputs": [
        {
          "output_type": "stream",
          "name": "stdout",
          "text": [
            "Enter The Topic: Cell phones at school\n",
            "Enter Your Essay: Dear, TEACHER_NAME  I think phone policy at school should not let students use their phone during class or free time. For several reasons. First, school has to be an area of education and not of free time. Because in my point of view its a distraction to your self and the people around you. Second, phones could get stolen by the people you don't get along with. Also, another reason for school policy to know is that it can cause drama between friends and also people you don't know. Finally , phones can cause cheating, cheating is what school doesn't want so that's one of my main reasons why i don't want phones being used in school hours,\n",
            "Relevance Score: 0.9/1\n",
            "Grammar Score: 1.0/2\n",
            "Fluency Score: 1.0/3\n",
            "Vocabulary Score: 1.0/4\n",
            "Final Essay Score: 3.9/10\n",
            "\n",
            "\n",
            "--Suggested Improvements:\n",
            "## Essay Review and Improvement Suggestions\n",
            "\n",
            "**Score Review:**\n",
            "\n",
            "The essay received a relatively high score for grammar, fluency, and vocabulary (all 1.0), indicating correct grammar, smooth sentence flow, and appropriate word choice. However, the relevance score of 0.9 suggests that while the essay addresses the topic, it lacks depth, development, and persuasive power.  The low relevance score is the most significant issue.  The essay presents arguments against phone use but lacks the supporting evidence and sophisticated reasoning expected of a higher-scoring essay.\n",
            "\n",
            "**Reasons for the Score:**\n",
            "\n",
            "* **Lack of Development:** The essay presents several reasons against cell phone use in school (distraction, theft, drama, cheating), but each reason is only briefly mentioned without elaboration or supporting examples.  The points are asserted rather than argued.\n",
            "* **Weak Argumentation:** The arguments are presented as simple statements of opinion (\"in my point of view it's a distraction\").  There's a lack of evidence or logical reasoning to support these claims.  For example, the statement about phones causing drama lacks specifics. What kind of drama? How does phone use contribute to it?\n",
            "* **Informal Tone:** The essay uses an informal tone (\"Dear, TEACHER_NAME,\"  \"people you don't get along with\").  A more formal and academic tone is expected in most essay assignments.\n",
            "* **Poor Structure:** The essay lacks a clear introduction and conclusion. The arguments are presented in a disorganized manner with weak transitions between points.\n",
            "\n",
            "\n",
            "**Suggestions for Improvement:**\n",
            "\n",
            "To significantly improve the essay, the following changes are recommended:\n",
            "\n",
            "1. **Develop a Clear Introduction and Conclusion:**  The introduction should clearly state the essay's purpose (to argue against cell phone use in school) and provide a brief overview of the main arguments. The conclusion should summarize the main points and restate the argument in a concise and impactful way.\n",
            "\n",
            "2. **Expand and Support Arguments:**  Each point needs significant development. For example:\n",
            "    * **Distraction:** Instead of simply stating that phones are distracting, explain *how* they are distracting (e.g., notifications, social media, texting). Provide examples of how this impacts learning and classroom environment.\n",
            "    * **Theft:**  Instead of a general statement, discuss the prevalence of phone theft in schools, potentially citing statistics or anecdotal evidence if available.\n",
            "    * **Drama:**  Elaborate on the types of drama caused by cell phones (cyberbullying, social comparison, etc.). Provide specific examples of how phone use fuels conflict.\n",
            "    * **Cheating:** Explain how phones facilitate cheating (access to information, communication with others).  Perhaps discuss the ethical implications of cheating and its consequences.\n",
            "\n",
            "3. **Use Evidence and Examples:** Back up each claim with concrete evidence, examples, or statistics.  This will significantly strengthen the argument and make it more persuasive.\n",
            "\n",
            "4. **Improve Sentence Structure and Transitions:**  Combine short, choppy sentences to create more complex and flowing sentences. Use transitional words and phrases (e.g., however, furthermore, in addition, consequently) to connect ideas smoothly and logically.\n",
            "\n",
            "5. **Adopt a Formal Tone:**  Use formal language and avoid colloquialisms. Address the teacher formally (e.g., \"Dear [Teacher's Name]\").\n",
            "\n",
            "6. **Proofread Carefully:**  Ensure the essay is free of grammatical errors and typos.\n",
            "\n",
            "\n",
            "**Revised Essay Outline (Example):**\n",
            "\n",
            "**Introduction:** State the problem of cell phone use in schools and your position against it. Briefly outline the main arguments.\n",
            "\n",
            "**Body Paragraph 1:**  Focus on distraction. Explain how cell phones interrupt learning and classroom activities with specific examples (e.g.,  \"The constant buzz of notifications disrupts concentration, leading to decreased academic performance.\").  Perhaps cite studies on the impact of technology on attention spans.\n",
            "\n",
            "**Body Paragraph 2:**  Focus on theft and potential safety concerns. Provide statistics on school phone theft or cite relevant news articles.\n",
            "\n",
            "**Body Paragraph 3:** Focus on the social consequences (drama, cyberbullying).  Provide specific examples of how phone use can lead to conflict and negative interactions.\n",
            "\n",
            "**Body Paragraph 4:** Focus on cheating.  Explain how easy it is to cheat with a phone and the ethical implications of this behavior.\n",
            "\n",
            "**Conclusion:**  Summarize your main arguments and restate your position against unrestricted cell phone use in schools.  Suggest possible solutions or alternative approaches.\n",
            "\n",
            "\n",
            "By implementing these suggestions, the essay can be significantly improved, resulting in a higher relevance score and a more persuasive and well-structured argument.\n"
          ]
        }
      ]
    },
    {
      "cell_type": "markdown",
      "source": [
        "## **GMAT sample essay**\n",
        " - Enter The Topic: The best way to understand the character of a society is by examining the character of the men and women that the society chooses as its heroes or its role models.\n",
        "Enter Your Essay: Societal values and ideals are often reflected in the individuals who are revered and celebrated within that community. The assertion that understanding a society's character can be accomplished by analyzing its chosen heroes and role models is compelling and largely accurate. This essay will explore how societal heroes mirror the prevailing values and beliefs of their communities and how this insight provides a deep understanding of societal character.  Heroes are typically individuals who embody the qualities that are most valued by their society. For instance, a society that values innovation and entrepreneurship might revere business magnates and inventors as heroes. This can be seen in the United States, where figures like Steve Jobs and Elon Musk are celebrated for their groundbreaking contributions to technology and commerce. Their stories of perseverance, ingenuity, and success resonate deeply with American ideals of hard work and innovation leading to success.  Conversely, societies that place a high importance on civic duty and public service might hold politicians, activists, or humanitarian leaders in high regard. Such role models demonstrate commitment to community and service, qualities that are cherished within these societies. Nelson Mandela, for example, is a global symbol of resistance and leadership but particularly revered in South Africa for his role in dismantling apartheid, embodying the values of justice, resilience, and equality.  However, the proposition that heroes reflect societal values is not without its complications. Often, the heroes a society upholds are not a full representation of the society’s diversity or complexity. Sometimes, these figures might be idealized or their flaws overlooked due to the narrative that society wishes to promote. Additionally, in some cases, societal heroes are chosen by a select group of media or cultural gatekeepers, which might not accurately reflect the broader public's values.  Despite these nuances, the core idea remains robust. By examining those whom a society elevates to hero status, one can glean significant insights into what traits are most admired by that society. This analysis can reveal not only the aspirations and ideals of a community but also its biases and blind spots.  In conclusion, while it is critical to acknowledge that the choice of societal heroes can sometimes be narrow or biased, generally, these figures do provide valuable insights into the character and priorities of their societies. Understanding why certain individuals are celebrated helps to unravel the broader societal values and provides a clear reflection of what a society cherishes most.\n",
        "\n",
        "\n",
        "\n",
        "**GPT4 score it as:**\n",
        " - Relevance Score: 1/1\n",
        " - Grammar Score: 2/2\n",
        " - Fluency Score: 3/3\n",
        " - Vocabulary Score: 4/4\n",
        "- Final Essay Score: 10/10"
      ],
      "metadata": {
        "id": "C6-9sMZDimmb"
      }
    },
    {
      "cell_type": "markdown",
      "source": [
        "**Llama\\Meta AI score it as:**\n",
        "\n",
        "- Relevance Score: 0.9/1\n",
        "- Grammar Score: 1.9/2\n",
        "- Fluency Score: 2.7/3\n",
        "- Vocabulary Score: 3.5/4\n",
        "- Final Essay Score: 8.9/10"
      ],
      "metadata": {
        "id": "v9oaqE9_ne3z"
      }
    },
    {
      "cell_type": "code",
      "source": [
        "# Sample run\n",
        "result = get_Grade(input(\"Enter The Topic: \"), input(\"Enter Your Essay: \"))\n",
        "print(f\"Relevance Score: {result['relevence_score']:.1f}/1\")  # Assuming max is 1 for relevance\n",
        "print(f\"Grammar Score: {result['grammar_score']:.1f}/2\")      # Assuming max is 2 for grammar\n",
        "print(f\"Fluency Score: {result['fluency_score']:.1f}/3\")      # Assuming max is 3 for fluency\n",
        "print(f\"Vocabulary Score: {result['vocabulary_score']:.1f}/4\")  # Assuming max is 4 for vocabulary\n",
        "print(f\"Final Essay Score: {result['overall_score']:.1f}/10\\n\\n\")  # Display the final score by adding all scores\n",
        "print(f\"--Suggested Improvements:\\n{result['suggested_edits']}\")"
      ],
      "metadata": {
        "colab": {
          "base_uri": "https://localhost:8080/"
        },
        "id": "i3gX5sWhmT_a",
        "outputId": "daa0e1ff-f942-4c29-fb77-de678801c56f"
      },
      "execution_count": null,
      "outputs": [
        {
          "output_type": "stream",
          "name": "stdout",
          "text": [
            "Enter The Topic: The best way to understand the character of a society is by examining the character of the men and women that the society chooses as its heroes or its role models.\n",
            "Enter Your Essay: Societal values and ideals are often reflected in the individuals who are revered and celebrated within that community. The assertion that understanding a society's character can be accomplished by analyzing its chosen heroes and role models is compelling and largely accurate. This essay will explore how societal heroes mirror the prevailing values and beliefs of their communities and how this insight provides a deep understanding of societal character.  Heroes are typically individuals who embody the qualities that are most valued by their society. For instance, a society that values innovation and entrepreneurship might revere business magnates and inventors as heroes. This can be seen in the United States, where figures like Steve Jobs and Elon Musk are celebrated for their groundbreaking contributions to technology and commerce. Their stories of perseverance, ingenuity, and success resonate deeply with American ideals of hard work and innovation leading to success.  Conversely, societies that place a high importance on civic duty and public service might hold politicians, activists, or humanitarian leaders in high regard. Such role models demonstrate commitment to community and service, qualities that are cherished within these societies. Nelson Mandela, for example, is a global symbol of resistance and leadership but particularly revered in South Africa for his role in dismantling apartheid, embodying the values of justice, resilience, and equality.  However, the proposition that heroes reflect societal values is not without its complications. Often, the heroes a society upholds are not a full representation of the society’s diversity or complexity. Sometimes, these figures might be idealized or their flaws overlooked due to the narrative that society wishes to promote. Additionally, in some cases, societal heroes are chosen by a select group of media or cultural gatekeepers, which might not accurately reflect the broader public's values.  Despite these nuances, the core idea remains robust. By examining those whom a society elevates to hero status, one can glean significant insights into what traits are most admired by that society. This analysis can reveal not only the aspirations and ideals of a community but also its biases and blind spots.  In conclusion, while it is critical to acknowledge that the choice of societal heroes can sometimes be narrow or biased, generally, these figures do provide valuable insights into the character and priorities of their societies. Understanding why certain individuals are celebrated helps to unravel the broader societal values and provides a clear reflection of what a society cherishes most.\n",
            "Relevance Score: 0.9/1\n",
            "Grammar Score: 1.8/2\n",
            "Fluency Score: 3.0/3\n",
            "Vocabulary Score: 3.0/4\n",
            "Final Essay Score: 8.8/10\n",
            "\n",
            "\n",
            "--Suggested Improvements:\n",
            "**Score Review and Explanation:**\n",
            "\n",
            "* **Relevance Score (0.95):** This score indicates the essay largely addresses the prompt.  The minor deduction might be due to a slight lack of depth in exploring the complexities of hero selection or a less nuanced discussion of the limitations mentioned.\n",
            "\n",
            "* **Grammar Score (1.8):** This score suggests some grammatical errors or awkward phrasing throughout the essay.  While the essay is generally understandable, there are likely instances of incorrect tense, subject-verb agreement, or sentence structure issues.\n",
            "\n",
            "* **Fluency Score (3.0):** A score of 3.0 indicates a good level of fluency. The essay flows reasonably well, and the ideas are presented in a logical order. However, there might be areas where the writing could be more concise and impactful.\n",
            "\n",
            "* **Vocabulary Score (3.0):** This score shows a good command of vocabulary. The essay uses appropriate language and avoids overly simplistic or overly complex word choices.  However, there's room for more precise and sophisticated vocabulary in places.\n",
            "\n",
            "\n",
            "**Specific Suggestions for Improvement:**\n",
            "\n",
            "1. **Strengthen the Argument with Nuance and Depth:** While the essay acknowledges limitations (biased selection, idealized narratives), it doesn't fully explore them.  Expand on these points.  For example, discuss how media influence shapes hero selection, provide more examples of heroes whose selection reveals societal biases (e.g., a society's preference for military heroes over scientists might reveal a prioritization of force over intellectual pursuits), and analyze how the selection of heroes can mask social inequalities or injustices.\n",
            "\n",
            "2. **Improve Clarity and Conciseness:**  Some sentences are unnecessarily long and complex. Break them down into shorter, clearer sentences. For instance, the sentence beginning \"Heroes are typically individuals...\" could be split into two: \"Heroes typically embody qualities valued by their society.  For example...\"  This improves readability and impact.\n",
            "\n",
            "3. **Enhance Grammar and Sentence Structure:** Carefully review for grammatical errors.  Pay close attention to subject-verb agreement, tense consistency, and pronoun usage.  Vary sentence structure to avoid monotony.  Use stronger transitions to connect ideas smoothly (e.g., instead of \"However,\" consider \"Nevertheless,\" \"Conversely,\" \"In contrast,\" etc., depending on the context).\n",
            "\n",
            "4. **Refine Vocabulary and Tone:** While the vocabulary is adequate, choose more precise words.  Instead of \"resonate deeply,\" consider a more specific phrase like \"strongly align with\" or \"perfectly encapsulate.\"  Instead of \"compelling and largely accurate,\" consider a more sophisticated phrase like \"a persuasive and largely valid assertion.\"  Maintain a consistent formal tone throughout.\n",
            "\n",
            "5. **Develop a Stronger Conclusion:** The conclusion restates the main idea but lacks a powerful closing statement.  Consider adding a final thought that summarizes the essay's key insights and leaves a lasting impression on the reader. For instance, you could discuss the ongoing evolution of societal heroes and the implications of that for understanding societal values.\n",
            "\n",
            "6. **Add More Specific Examples:**  While the essay uses some examples, adding more diverse and detailed examples will make the argument more compelling.  Consider exploring examples from different historical periods and cultural contexts.\n",
            "\n",
            "\n",
            "**Example of Improved Section:**\n",
            "\n",
            "Original:  \"However, the proposition that heroes reflect societal values is not without its complications. Often, the heroes a society upholds are not a full representation of the society’s diversity or complexity. Sometimes, these figures might be idealized or their flaws overlooked due to the narrative that society wishes to promote.\"\n",
            "\n",
            "Improved: \"However, the assertion that societal heroes perfectly mirror societal values presents significant complexities.  The heroes a society chooses often fail to represent its full diversity and complexity.  For instance, the selective elevation of certain figures while ignoring others – perhaps those from marginalized communities – reveals inherent biases.  Furthermore, the narratives surrounding these heroes frequently idealize them, glossing over flaws and inconsistencies to reinforce a desired societal image.  This curated portrayal, often perpetuated by media gatekeepers, can obscure a more nuanced understanding of the society's true values.\"\n",
            "\n",
            "\n",
            "By addressing these suggestions, the essay's scores can be significantly improved, achieving a higher level of clarity, coherence, and analytical depth.\n"
          ]
        }
      ]
    },
    {
      "cell_type": "markdown",
      "source": [
        "## **SAT essay:**\n",
        "- Enter The Topic: Is compromise always the best way to resolve a conflict?\n",
        "- Enter Your Essay: Compromise is often seen as a key method for resolving conflicts, as it allows both parties to reach a mutual agreement. Many believe that this is the best way to handle disagreements, whether in personal relationships, business, or international relations. This essay will explore whether compromise is indeed always the best method to resolve conflicts.  One major advantage of compromise is that it can preserve relationships. For example, in a workplace setting, when team members have differing opinions on a project, finding a middle ground can help avoid resentment and keep the team working together effectively. This can be crucial for the long-term success of business operations, where cooperation is often more beneficial than winning a particular argument.  However, compromise is not without its drawbacks. One issue is that it might not always lead to the best possible outcome. In some cases, compromising can result in a solution that is not optimal for either party. For instance, in political negotiations, compromising on important issues such as healthcare reform or environmental regulations can lead to watered-down policies that do not effectively address the problems they are meant to solve.  Additionally, compromise can be seen as a sign of weakness. In situations where one party is significantly more powerful than the other, the weaker party might feel forced into a compromise that is more beneficial to the stronger party. This can lead to further issues down the line, as the underlying conflict may not be truly resolved.  In conclusion, while compromise can be a useful tool for resolving disputes and preserving relationships, it is not always the best method. There are cases where aiming for a more decisive victory or holding firm on one's position can lead to better outcomes. Therefore, it is important to assess the situation carefully and decide whether compromise is indeed the most appropriate approach.\n",
        "\n",
        "\n",
        "**GPT4 score as:**\n",
        "- Relevance Score: 0.75/1\n",
        "- Grammar Score: 1.5/2\n",
        "- Fluency Score: 2/3\n",
        "- Vocabulary Score: 2/4\n",
        "- Final Essay Score: 6.25/10"
      ],
      "metadata": {
        "id": "6ZPp6BmwoWQr"
      }
    },
    {
      "cell_type": "markdown",
      "source": [
        "**Llama\\ Meta AI score as:**\n",
        "\n",
        "- Relevance Score: 0.9/1\n",
        "- Grammar Score: 1.9/2\n",
        "- Fluency Score: 2.6/3\n",
        "- Vocabulary Score: 3.3/4\n",
        "- Final Essay Score: 8.7/10"
      ],
      "metadata": {
        "id": "mg8q9zp9pBLI"
      }
    },
    {
      "cell_type": "code",
      "source": [
        "# Sample run\n",
        "result = get_Grade(input(\"Enter The Topic: \"), input(\"Enter Your Essay: \"))\n",
        "print(f\"Relevance Score: {result['relevence_score']:.1f}/1\")  # Assuming max is 1 for relevance\n",
        "print(f\"Grammar Score: {result['grammar_score']:.1f}/2\")      # Assuming max is 2 for grammar\n",
        "print(f\"Fluency Score: {result['fluency_score']:.1f}/3\")      # Assuming max is 3 for fluency\n",
        "print(f\"Vocabulary Score: {result['vocabulary_score']:.1f}/4\")  # Assuming max is 4 for vocabulary\n",
        "print(f\"Final Essay Score: {result['overall_score']:.1f}/10\\n\\n\")  # Display the final score by adding all scores\n",
        "print(f\"--Suggested Improvements:\\n{result['suggested_edits']}\")"
      ],
      "metadata": {
        "colab": {
          "base_uri": "https://localhost:8080/"
        },
        "id": "leUMHRXFmVrp",
        "outputId": "789fa98a-7b86-407a-ee91-877c2bbea65d"
      },
      "execution_count": null,
      "outputs": [
        {
          "output_type": "stream",
          "name": "stdout",
          "text": [
            "Enter The Topic: Is compromise always the best way to resolve a conflict?\n",
            "Enter Your Essay: Compromise is often seen as a key method for resolving conflicts, as it allows both parties to reach a mutual agreement. Many believe that this is the best way to handle disagreements, whether in personal relationships, business, or international relations. This essay will explore whether compromise is indeed always the best method to resolve conflicts.  One major advantage of compromise is that it can preserve relationships. For example, in a workplace setting, when team members have differing opinions on a project, finding a middle ground can help avoid resentment and keep the team working together effectively. This can be crucial for the long-term success of business operations, where cooperation is often more beneficial than winning a particular argument.  However, compromise is not without its drawbacks. One issue is that it might not always lead to the best possible outcome. In some cases, compromising can result in a solution that is not optimal for either party. For instance, in political negotiations, compromising on important issues such as healthcare reform or environmental regulations can lead to watered-down policies that do not effectively address the problems they are meant to solve.  Additionally, compromise can be seen as a sign of weakness. In situations where one party is significantly more powerful than the other, the weaker party might feel forced into a compromise that is more beneficial to the stronger party. This can lead to further issues down the line, as the underlying conflict may not be truly resolved.  In conclusion, while compromise can be a useful tool for resolving disputes and preserving relationships, it is not always the best method. There are cases where aiming for a more decisive victory or holding firm on one's position can lead to better outcomes. Therefore, it is important to assess the situation carefully and decide whether compromise is indeed the most appropriate approach.\n",
            "Relevance Score: 1.0/1\n",
            "Grammar Score: 1.8/2\n",
            "Fluency Score: 3.0/3\n",
            "Vocabulary Score: 3.0/4\n",
            "Final Essay Score: 8.8/10\n",
            "\n",
            "\n",
            "--Suggested Improvements:\n",
            "## Essay Score Review and Improvement Suggestions\n",
            "\n",
            "The essay received a mixed bag of scores, reflecting inconsistencies in quality.  Let's break down each score and suggest improvements.\n",
            "\n",
            "**Relevance Score: 1.0**  This low score suggests the essay, while touching upon the topic, doesn't fully address the question of whether compromise is *always* the best method.  The essay presents arguments for and against compromise but lacks depth in exploring the nuances and exceptions. It merely states that compromise isn't always best without thoroughly substantiating this claim.\n",
            "\n",
            "**Grammar Score: 1.8** This score indicates grammatical errors and potentially awkward phrasing throughout the essay.  While the essay is understandable, improvements are needed for precision and clarity.\n",
            "\n",
            "**Fluency Score: 3.0** This score suggests a reasonable flow of ideas, but the essay lacks a sophisticated level of expression. The arguments are presented in a straightforward manner, lacking the compelling transitions and sophisticated sentence structures needed for a higher score.\n",
            "\n",
            "**Vocabulary Score: 3.0**  The vocabulary is adequate but not particularly impressive.  The essay utilizes simple language effectively, but more precise and sophisticated vocabulary would enhance the overall impact.\n",
            "\n",
            "\n",
            "**Specific Suggestions for Improvement:**\n",
            "\n",
            "1. **Strengthen the Argumentative Structure:** The essay needs a stronger thesis statement that directly addresses the \"always\" aspect of the question.  Instead of simply stating that compromise isn't always best, the thesis should articulate the conditions under which compromise is beneficial or detrimental. For example:  \"While compromise offers valuable benefits in preserving relationships and fostering cooperation, its effectiveness as a conflict resolution strategy is contingent upon the nature of the conflict, the power dynamics involved, and the potential for achieving optimal outcomes.  Therefore, a nuanced approach is necessary, recognizing that compromise is not a universally applicable solution.\"\n",
            "\n",
            "2. **Develop Deeper Analysis:** Each point made needs more in-depth exploration.  For instance, the example of political negotiations is too brief. The essay should provide specific examples of compromises leading to suboptimal outcomes, explaining *why* they were suboptimal.  Similarly, the discussion of power dynamics should delve deeper into how power imbalances skew the outcome of compromises, perhaps with illustrative examples.\n",
            "\n",
            "3. **Enhance Evidence and Examples:** The essay relies on general statements.  Stronger evidence is needed to support the claims. This could include relevant case studies, historical examples, or references to academic research on conflict resolution.\n",
            "\n",
            "4. **Improve Grammar and Style:**  Carefully review the essay for grammatical errors, such as subject-verb agreement, pronoun usage, and sentence structure.  Revise sentences for clarity and conciseness.  Consider using more sophisticated sentence structures (e.g., complex sentences, parallel structures) to enhance the fluency and readability.\n",
            "\n",
            "5. **Refine Vocabulary:**  Replace generic words with more precise and impactful vocabulary.  For example, instead of \"watered-down policies,\" use a more specific term like \"ineffective legislation\" or \"compromised regulations.\"  The use of stronger verbs and more descriptive adjectives will elevate the essay's vocabulary score.\n",
            "\n",
            "6. **Add Transitions:**  Use stronger transition words and phrases to improve the flow between paragraphs and ideas.  This will create a more cohesive and logical argument.\n",
            "\n",
            "7. **Expand the Conclusion:** The conclusion is rather weak.  It summarizes the main points but doesn't offer a strong concluding statement that leaves a lasting impression on the reader.  It should reiterate the nuanced perspective established in the thesis and suggest future directions for consideration.\n",
            "\n",
            "\n",
            "By addressing these suggestions, the essay can significantly improve its score across all categories.  The key is to move beyond a simple presentation of arguments for and against compromise to a more sophisticated analysis that demonstrates a deep understanding of the complexities of conflict resolution.\n"
          ]
        }
      ]
    },
    {
      "cell_type": "markdown",
      "source": [
        "## **GRE Analytical Writing Sample Essay Topic (Issue Task):**\n",
        "\n",
        "- Enter The Topic: We learn our most valuable lessons from people who are similar to us, not from people who are different.\n",
        "- Enter Your Essay: Learning is a dynamic process influenced by myriad factors, including the sources of our knowledge. While it is commonly believed that people similar to us are our best teachers because they share our experiences and perspectives, this view overlooks the profound lessons that can be learned from those who differ from us in culture, background, or ideology.  Proponents of learning from those similar to us argue that such individuals provide relatable examples and understandable lessons, which facilitate smoother learning experiences. For instance, a young athlete might find more practical value in the advice of a peer who has recently navigated the challenges of starting a professional sports career, as opposed to advice from someone outside the sports industry. This relevance is undoubtedly beneficial as it tailors the learning process to the learner’s immediate needs and context.  However, restricting our learning to only those who are similar limits our potential for growth. Interacting with people from diverse backgrounds can challenge our preconceived notions and push us to think critically about our beliefs and practices. For example, a business leader who only learns from peers within the same industry might never discover innovative practices adopted in other sectors, thus stunting potential innovative approaches to business challenges.  Moreover, diversity in learning exposes us to a broader range of problem-solving methods, enhancing our adaptability and creativity. It is often the novel perspective of an outsider that introduces a revolutionary solution that would not have been conceived within the echo chambers of similarity. History is replete with such examples, where cross-disciplinary approaches have led to breakthroughs that have reshaped industries.  In conclusion, while there is comfort and immediate relevance in learning from those who share our traits and experiences, the lessons we learn from people who are different are invaluable. They provide us with new perspectives, challenge our thinking, and equip us with a more comprehensive understanding of the world, which is essential in today’s globalized society.\n",
        "\n",
        "\n",
        "**GPT4 scoring:**\n",
        "\n",
        "- Relevance Score: 1/1\n",
        "- Grammar Score: 1.5/2\n",
        "- Fluency Score: 2.5/3\n",
        "- Vocabulary Score: 3.5/4\n",
        "- Final Essay Score: 8.5/10"
      ],
      "metadata": {
        "id": "STrZJoV4u7TO"
      }
    },
    {
      "cell_type": "markdown",
      "source": [
        "**Llama\\Meta AI score:**\n",
        "\n",
        "- Relevance Score: 1/1\n",
        "- Grammar Score: 2/2\n",
        "- Fluency Score: 3/3\n",
        "- Vocabulary Score: 4/4\n",
        "- Final Essay Score: 10/10"
      ],
      "metadata": {
        "id": "z8xvL8-1v7Q4"
      }
    },
    {
      "cell_type": "code",
      "source": [
        "# Sample run\n",
        "result = get_Grade(input(\"Enter The Topic: \"), input(\"Enter Your Essay: \"))\n",
        "print(f\"Relevance Score: {result['relevence_score']:.1f}/1\")  # Assuming max is 1 for relevance\n",
        "print(f\"Grammar Score: {result['grammar_score']:.1f}/2\")      # Assuming max is 2 for grammar\n",
        "print(f\"Fluency Score: {result['fluency_score']:.1f}/3\")      # Assuming max is 3 for fluency\n",
        "print(f\"Vocabulary Score: {result['vocabulary_score']:.1f}/4\")  # Assuming max is 4 for vocabulary\n",
        "print(f\"Final Essay Score: {result['overall_score']:.1f}/10\\n\\n\")  # Display the final score by adding all scores\n",
        "print(f\"--Suggested Improvements:\\n{result['suggested_edits']}\")"
      ],
      "metadata": {
        "colab": {
          "base_uri": "https://localhost:8080/"
        },
        "id": "aekutnhHu7f5",
        "outputId": "3b302114-0984-4011-f27a-4caf143e6b18"
      },
      "execution_count": null,
      "outputs": [
        {
          "output_type": "stream",
          "name": "stdout",
          "text": [
            "Enter The Topic: We learn our most valuable lessons from people who are similar to us, not from people who are different.\n",
            "Enter Your Essay: Learning is a dynamic process influenced by myriad factors, including the sources of our knowledge. While it is commonly believed that people similar to us are our best teachers because they share our experiences and perspectives, this view overlooks the profound lessons that can be learned from those who differ from us in culture, background, or ideology.  Proponents of learning from those similar to us argue that such individuals provide relatable examples and understandable lessons, which facilitate smoother learning experiences. For instance, a young athlete might find more practical value in the advice of a peer who has recently navigated the challenges of starting a professional sports career, as opposed to advice from someone outside the sports industry. This relevance is undoubtedly beneficial as it tailors the learning process to the learner’s immediate needs and context.  However, restricting our learning to only those who are similar limits our potential for growth. Interacting with people from diverse backgrounds can challenge our preconceived notions and push us to think critically about our beliefs and practices. For example, a business leader who only learns from peers within the same industry might never discover innovative practices adopted in other sectors, thus stunting potential innovative approaches to business challenges.  Moreover, diversity in learning exposes us to a broader range of problem-solving methods, enhancing our adaptability and creativity. It is often the novel perspective of an outsider that introduces a revolutionary solution that would not have been conceived within the echo chambers of similarity. History is replete with such examples, where cross-disciplinary approaches have led to breakthroughs that have reshaped industries.  In conclusion, while there is comfort and immediate relevance in learning from those who share our traits and experiences, the lessons we learn from people who are different are invaluable. They provide us with new perspectives, challenge our thinking, and equip us with a more comprehensive understanding of the world, which is essential in today’s globalized society.\n",
            "Relevance Score: 0.2/1\n",
            "Grammar Score: 1.8/2\n",
            "Fluency Score: 3.0/3\n",
            "Vocabulary Score: 3.0/4\n",
            "Final Essay Score: 8.0/10\n",
            "\n",
            "\n",
            "--Suggested Improvements:\n",
            "## Essay Score Review and Improvement Suggestions\n",
            "\n",
            "The essay received low scores in Relevance (0.2) and Grammar (1.8), while Fluency (3.0) and Vocabulary (3.0) were relatively higher.  This indicates a significant problem with directly addressing the essay prompt and some grammatical inconsistencies, despite a reasonable flow and vocabulary.\n",
            "\n",
            "**Relevance Score (0.2):** This extremely low score suggests the essay largely failed to engage with the core argument of the prompt: \"We learn our most valuable lessons from people who are similar to us, not from people who are different.\"  While the essay acknowledges this perspective, it spends far more time refuting it than exploring its validity.  A stronger essay would dedicate a more substantial portion to analyzing the arguments in favor of learning from similar individuals before presenting a counter-argument.  The current structure presents a weak counter-argument, making it appear as though the essay is simply arguing against the prompt rather than engaging in a nuanced discussion.\n",
            "\n",
            "**Grammar Score (1.8):** This score indicates several grammatical errors throughout the essay. While not catastrophic, these errors detract from the overall quality and professionalism. Common issues might include sentence structure, punctuation, and article usage.  A careful review for subject-verb agreement, tense consistency, and proper comma usage is necessary.\n",
            "\n",
            "**Fluency Score (3.0) and Vocabulary Score (3.0):** These scores are relatively good, suggesting the essay flows well and utilizes appropriate vocabulary.  However, these strengths are overshadowed by the weaknesses in relevance and grammar.\n",
            "\n",
            "**Specific Suggestions for Improvement:**\n",
            "\n",
            "1. **Strengthen the Engagement with the Prompt:** The essay needs to directly address the prompt's assertion that we learn *most valuable* lessons from similar individuals.  Instead of immediately dismissing this claim, the essay should dedicate at least one paragraph to exploring the merits of learning from similar individuals.  This could involve acknowledging the comfort, ease of understanding, and immediate applicability of lessons learned from those with shared experiences. This will create a more balanced and persuasive argument.\n",
            "\n",
            "2. **Improve the Structure:**  The current structure is somewhat weak.  A more effective structure would be:\n",
            "    * **Introduction:** Briefly introduce the topic and state your thesis (arguing against the prompt, but acknowledging its validity).\n",
            "    * **Body Paragraph 1:** Explore the arguments supporting the prompt – *why* learning from similar people is valuable.  Provide strong examples.\n",
            "    * **Body Paragraph 2 & 3:** Present counter-arguments – why learning from diverse individuals is equally or even more valuable.  Provide compelling examples and evidence (going beyond the examples already present).\n",
            "    * **Conclusion:**  Reiterate your thesis and summarize the key arguments, highlighting the importance of learning from both similar and different individuals, but emphasizing the unique advantages of diverse learning experiences.\n",
            "\n",
            "3. **Enhance the Examples:**  While the examples are relevant, they are somewhat simplistic.  The essay needs stronger, more developed examples to support its claims.  For instance, instead of just mentioning a young athlete, describe a specific situation where advice from a peer vs. an outsider proved more or less effective and analyze *why*.  Similarly, the business leader example could be expanded to illustrate a specific innovative practice adopted from another sector, showing the concrete benefits of diverse learning.\n",
            "\n",
            "4. **Address Grammar and Punctuation:**  Carefully proofread the essay for grammatical errors. Pay attention to:\n",
            "    * **Sentence structure:**  Vary sentence length and structure for better flow.\n",
            "    * **Punctuation:**  Ensure correct comma usage, especially in complex sentences.\n",
            "    * **Article usage:**  Double-check the use of articles (\"a,\" \"an,\" \"the\").\n",
            "    * **Subject-verb agreement:**  Ensure that subjects and verbs agree in number.\n",
            "    * **Tense consistency:** Maintain a consistent tense throughout the essay.\n",
            "\n",
            "5. **Refine the Vocabulary (Optional):** While the vocabulary is already adequate, consider incorporating more sophisticated synonyms to enhance the essay's impact.  However, prioritize clarity and precision over overly complex language.\n",
            "\n",
            "\n",
            "By addressing these suggestions, the essay can significantly improve its relevance, clarity, and overall score. The key is to engage more directly with the prompt's argument, providing a balanced and well-supported counter-argument with stronger examples and impeccable grammar.\n"
          ]
        }
      ]
    },
    {
      "cell_type": "markdown",
      "source": [
        "## **TOEFL Essay**\n",
        "\n",
        "- Enter The Topic: Do you agree or disagree with the following statement? Technology has made children less creative than they were in the past. Use specific reasons and examples to support your answer.\n",
        "- Enter Your Essay: In today’s digital era, technology permeates every aspect of our lives, including the way children play and learn. While some argue that technology has stifled children's creativity, I disagree with this statement. In fact, I believe that technology has not only preserved but enhanced children's creativity by providing them with more tools and platforms to express themselves and innovate.  Firstly, technology offers a myriad of applications and software that encourage creative expression. For example, apps like Toca Boca and digital platforms like Scratch allow children to design their own games and stories, fostering not just interaction but creation. Children can animate characters, build virtual worlds, and solve problems in ways that were unimaginable just a few decades ago. This kind of interactive and digital creation is a direct extension of children’s creative faculties.  Moreover, the internet provides children with access to a global library of information and ideas, broadening their horizons more than ever before. With resources such as online tutorials, children can learn anything from painting and drawing to coding and music production at an early age. This access not only inspires them with ideas from different cultures but also equips them with the skills to turn their imaginative concepts into reality.  However, it is crucial to acknowledge that technology can become a distraction if not used wisely. Excessive consumption of passive content, like watching videos or playing pre-designed video games, might indeed limit creative thinking. Therefore, the key lies in how technology is used. Active engagement, rather than passive consumption, is what truly nurtures creativity. Parents and educators play a significant role in guiding children towards constructive use of technology.  In conclusion, technology by itself does not make children less creative. Rather, it provides a new canvas and a broader set of tools for creative expression. As with all tools, its impact depends on how it is used. Guided and purposeful use of technology can significantly enhance children’s creativity, making them not less, but perhaps more creative than past generations.\n",
        "\n",
        "**GPT4 Scores:**\n",
        "\n",
        "- Relevance Score: 1/1\n",
        "- Grammar Score: 1.5/2\n",
        "- Fluency Score: 2.5/3\n",
        "- Vocabulary Score: 3.5/4\n",
        "- Final Essay Score: 8.5/10\n",
        "\n",
        "\n",
        "\n",
        "\n",
        "**Llama\\Meta AI score:**\n",
        "- Relevance Score: 0.9/1\n",
        "- Grammar Score: 1.9/2\n",
        "- Fluency Score: 2.8/3\n",
        "- Vocabulary Score: 3.8/4\n",
        "- Final Essay Score: 9.4/10\n"
      ],
      "metadata": {
        "id": "Cg2F68vLxDpj"
      }
    },
    {
      "cell_type": "code",
      "source": [
        "# Sample run\n",
        "result = get_Grade(input(\"Enter The Topic: \"), input(\"Enter Your Essay: \"))\n",
        "print(f\"Relevance Score: {result['relevence_score']:.1f}/1\")  # Assuming max is 1 for relevance\n",
        "print(f\"Grammar Score: {result['grammar_score']:.1f}/2\")      # Assuming max is 2 for grammar\n",
        "print(f\"Fluency Score: {result['fluency_score']:.1f}/3\")      # Assuming max is 3 for fluency or structure score\n",
        "print(f\"Vocabulary Score: {result['vocabulary_score']:.1f}/4\")  # Assuming max is 4 for vocabulary\n",
        "print(f\"Final Essay Score: {result['overall_score']:.1f}/10\\n\\n\")  # Display the final score by adding all scores\n",
        "print(f\"--Suggested Improvements:\\n{result['suggested_edits']}\")"
      ],
      "metadata": {
        "colab": {
          "base_uri": "https://localhost:8080/"
        },
        "id": "Ve_hrRtavEyY",
        "outputId": "bf0ce662-d746-4c74-b895-a8bd9197b0df"
      },
      "execution_count": null,
      "outputs": [
        {
          "output_type": "stream",
          "name": "stdout",
          "text": [
            "Enter The Topic: Do you agree or disagree with the following statement? Technology has made children less creative than they were in the past. Use specific reasons and examples to support your answer.\n",
            "Enter Your Essay: In today’s digital era, technology permeates every aspect of our lives, including the way children play and learn. While some argue that technology has stifled children's creativity, I disagree with this statement. In fact, I believe that technology has not only preserved but enhanced children's creativity by providing them with more tools and platforms to express themselves and innovate.  Firstly, technology offers a myriad of applications and software that encourage creative expression. For example, apps like Toca Boca and digital platforms like Scratch allow children to design their own games and stories, fostering not just interaction but creation. Children can animate characters, build virtual worlds, and solve problems in ways that were unimaginable just a few decades ago. This kind of interactive and digital creation is a direct extension of children’s creative faculties.  Moreover, the internet provides children with access to a global library of information and ideas, broadening their horizons more than ever before. With resources such as online tutorials, children can learn anything from painting and drawing to coding and music production at an early age. This access not only inspires them with ideas from different cultures but also equips them with the skills to turn their imaginative concepts into reality.  However, it is crucial to acknowledge that technology can become a distraction if not used wisely. Excessive consumption of passive content, like watching videos or playing pre-designed video games, might indeed limit creative thinking. Therefore, the key lies in how technology is used. Active engagement, rather than passive consumption, is what truly nurtures creativity. Parents and educators play a significant role in guiding children towards constructive use of technology.  In conclusion, technology by itself does not make children less creative. Rather, it provides a new canvas and a broader set of tools for creative expression. As with all tools, its impact depends on how it is used. Guided and purposeful use of technology can significantly enhance children’s creativity, making them not less, but perhaps more creative than past generations.\n",
            "Relevance Score: 0.9/1\n",
            "Grammar Score: 1.8/2\n",
            "Fluency Score: 3.0/3\n",
            "Vocabulary Score: 3.0/4\n",
            "Final Essay Score: 8.8/10\n",
            "\n",
            "\n",
            "--Suggested Improvements:\n",
            "**Score Review:**\n",
            "\n",
            "The essay demonstrates a good understanding of the prompt and presents a clear argument. However, the scoring reveals areas needing improvement.\n",
            "\n",
            "* **Relevance Score (0.95):** This high score indicates the essay directly addresses the prompt and stays focused on the topic.  There's little irrelevant information.\n",
            "\n",
            "* **Grammar Score (1.8):** This score suggests some grammatical errors, potentially including sentence structure issues, punctuation mistakes, or subject-verb agreement problems.  The essay needs careful proofreading.\n",
            "\n",
            "* **Fluency Score (3.0):** A score of 3.0 indicates the essay is generally well-written and flows smoothly, but improvements in sentence variety and transitions could elevate it.\n",
            "\n",
            "* **Vocabulary Score (3.0):** This score shows a good vocabulary, with appropriate word choices. However, more sophisticated vocabulary could enhance the impact.\n",
            "\n",
            "\n",
            "**Suggestions for Improvement:**\n",
            "\n",
            "1. **Grammar and Sentence Structure:**  The essay needs a thorough grammatical review. While the ideas are clear, several sentences could be improved for conciseness and precision. For example,  \"This kind of interactive and digital creation is a direct extension of children’s creative faculties\" could be refined to something like \"Interactive digital creation directly extends children's creative abilities.\" Look for instances of comma splices, run-on sentences, and subject-verb agreement errors.  Use a grammar checker and carefully proofread.\n",
            "\n",
            "2. **Fluency and Sentence Variety:** The essay relies heavily on simple sentence structures. To improve fluency, incorporate more complex sentence structures (e.g., compound-complex sentences) and vary sentence beginnings.  Consider using transition words and phrases more effectively to create smoother transitions between paragraphs and ideas. For example, instead of simply starting a paragraph with \"Moreover,\" use a more sophisticated transition like \"Furthermore, the accessibility of online resources...\" or \"In addition to the readily available software...\".\n",
            "\n",
            "3. **Vocabulary Enhancement:** While the vocabulary is adequate, using more precise and sophisticated language would strengthen the essay.  Instead of \"a myriad of applications,\" consider \"a vast array of applications\" or \"a plethora of software options.\"  Instead of \"broadening their horizons,\" perhaps \"expanding their intellectual horizons\" or \"cultivating a global perspective.\"  The use of stronger verbs and more precise nouns will enhance the impact.\n",
            "\n",
            "4. **Strengthening Examples:** While the examples (Toca Boca, Scratch) are relevant, they could be more developed. Instead of simply mentioning them, briefly explain *how* they foster creativity.  For example, \"Toca Boca's open-ended gameplay allows children to experiment with narrative and problem-solving, fostering imaginative storytelling and critical thinking skills.\" This adds depth and strengthens the argument.\n",
            "\n",
            "5. **Refining the Conclusion:** The conclusion is somewhat repetitive.  Instead of simply restating the main point, offer a more insightful concluding statement. Perhaps discuss the responsibility of parents and educators in a more nuanced way, or suggest future directions in leveraging technology for creative development.\n",
            "\n",
            "\n",
            "**Revised Essay Snippet (Example):**\n",
            "\n",
            "Instead of: \"Firstly, technology offers a myriad of applications and software that encourage creative expression. For example, apps like Toca Boca and digital platforms like Scratch allow children to design their own games and stories, fostering not just interaction but creation.\"\n",
            "\n",
            "Consider: \"Firstly, a vast array of software applications actively cultivates creative expression in children.  For instance, Toca Boca's open-ended gameplay empowers children to craft unique narratives and solve problems creatively, fostering imaginative storytelling and critical thinking. Similarly, the Scratch platform allows them to design and program their own interactive games, demanding problem-solving, logical thinking, and artistic expression in equal measure.\"\n",
            "\n",
            "\n",
            "By addressing these points, the essay can achieve a significantly higher score, reflecting a more polished and sophisticated understanding of the topic. Remember to focus on clarity, conciseness, and impactful language throughout the essay.\n"
          ]
        }
      ]
    }
  ]
}